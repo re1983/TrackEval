{
 "cells": [
  {
   "cell_type": "code",
   "execution_count": 1,
   "metadata": {},
   "outputs": [],
   "source": [
    "import os\n",
    "import pandas as pd\n",
    "\n",
    "def adjust_gt_columns(root_dir):\n",
    "    \"\"\"\n",
    "    递归遍历数据集目录，修改每个 gt.txt 的前两列（frame和id）加1\n",
    "    \n",
    "    Args:\n",
    "        root_dir (str): 数据集根目录（例如：'MyDataset/'）\n",
    "    \"\"\"\n",
    "    # 遍历根目录下的所有子目录\n",
    "    for seq_dir in os.listdir(root_dir):\n",
    "        seq_path = os.path.join(root_dir, seq_dir)\n",
    "        gt_path = os.path.join(seq_path, 'gt', 'gt.txt')\n",
    "        \n",
    "        # 检查是否是有效的序列目录\n",
    "        if os.path.isdir(seq_path) and os.path.exists(gt_path):\n",
    "            print(f\"处理序列: {seq_dir}\")\n",
    "            \n",
    "            # 读取 gt.txt（无表头，全部字段为数字）\n",
    "            df = pd.read_csv(gt_path, header=None)\n",
    "            \n",
    "            # 确保至少有两列可操作\n",
    "            if df.shape[1] < 2:\n",
    "                print(f\"错误：{seq_dir}/gt.txt 列数不足\")\n",
    "                continue\n",
    "            \n",
    "            # 前两列加1（frame和id）\n",
    "            df[0] = df[0] + 1  # frame列\n",
    "            # df[1] = df[1] + 1  # id列\n",
    "            \n",
    "            # 保存覆盖原文件（保留其他列不变）\n",
    "            df.to_csv(gt_path, index=False, header=False)\n",
    "            print(f\"更新完成: {gt_path}\\n\")"
   ]
  },
  {
   "cell_type": "code",
   "execution_count": 2,
   "metadata": {},
   "outputs": [
    {
     "name": "stdout",
     "output_type": "stream",
     "text": [
      "处理序列: rural_1740266413\n",
      "更新完成: ../VisionBasedAircraftDAA/output/rural_1740266413/gt/gt.txt\n",
      "\n",
      "所有文件处理完毕！\n"
     ]
    }
   ],
   "source": [
    "if __name__ == \"__main__\":\n",
    "    # dataset_root = \"data/gt/mot_challenge/MOT17-train\"  # 修改为你的数据集根目录路径\n",
    "    dataset_root = \"../VisionBasedAircraftDAA/output\"\n",
    "    adjust_gt_columns(dataset_root)\n",
    "    print(\"所有文件处理完毕！\")"
   ]
  },
  {
   "cell_type": "code",
   "execution_count": 1,
   "metadata": {},
   "outputs": [],
   "source": [
    "import os\n",
    "import glob\n",
    "\n",
    "def process_tracking_results(results_dir, backup=False):\n",
    "    \"\"\"\n",
    "    批量处理跟踪结果文件：\n",
    "    1. frame +1\n",
    "    2. id 转浮点数 +1 后取整\n",
    "    3. 保留其他列不变\n",
    "    \n",
    "    Args:\n",
    "        results_dir (str): 跟踪结果目录路径 (e.g. 'track_results/')\n",
    "        backup (bool): 是否创建备份文件 (原文件改名为 *.txt.bak)\n",
    "    \"\"\"\n",
    "    # 获取所有txt文件路径\n",
    "    files = glob.glob(os.path.join(results_dir, '*.txt'))\n",
    "    print(f\"共找到 {len(files)} 个结果文件\\n\")\n",
    "    for file_path in files:\n",
    "        print(f\"处理文件: {os.path.basename(file_path)}\")\n",
    "        \n",
    "        # 创建备份\n",
    "        if backup:\n",
    "            backup_path = file_path + '.bak'\n",
    "            os.rename(file_path, backup_path)\n",
    "            file_path = backup_path  # 从备份文件读取\n",
    "        \n",
    "        # 处理数据\n",
    "        new_lines = []\n",
    "        with open(file_path, 'r') as f:\n",
    "            for line in f:\n",
    "                # 分割字段并去空格\n",
    "                parts = [p.strip() for p in line.split(',')]\n",
    "                \n",
    "                # 处理前两列\n",
    "                try:\n",
    "                    frame = int(parts[0]) + 1\n",
    "                    # track_id = int(float(parts[1]) + 1)  # 处理小数ID\n",
    "                except (ValueError, IndexError) as e:\n",
    "                    print(f\"跳过无效行: {line.strip()} | 错误: {e}\")\n",
    "                    continue\n",
    "                \n",
    "                # 重组行数据 (保留其他字段)\n",
    "                # new_line = f\"{frame},{track_id},\" + ','.join(parts[2:]) + '\\n'\n",
    "                new_line = f\"{frame},\" + ','.join(parts[1:]) + '\\n'\n",
    "                new_lines.append(new_line)\n",
    "        \n",
    "        # 写入新文件 (原路径)\n",
    "        output_path = file_path[:-4] if backup else file_path  # 移除 .bak\n",
    "        with open(output_path, 'w') as f:\n",
    "            f.writelines(new_lines)\n",
    "        \n",
    "        print(f\"处理完成: {output_path}\\n\")\n"
   ]
  },
  {
   "cell_type": "code",
   "execution_count": null,
   "metadata": {},
   "outputs": [],
   "source": [
    "# 使用示例 (修改为你的跟踪结果目录)\n",
    "process_tracking_results(\n",
    "    results_dir=\"data/trackers/mot_challenge/MOT17-train/MMOT_Tracker/data\",  # 你的跟踪结果目录\n",
    "    backup=False  # 首次运行建议开启备份\n",
    ")\n",
    "print(\"所有文件处理完成！\")"
   ]
  },
  {
   "cell_type": "code",
   "execution_count": 2,
   "metadata": {},
   "outputs": [
    {
     "name": "stdout",
     "output_type": "stream",
     "text": [
      "处理序列: rural_1740267409\n",
      "所有GT文件修复完成！\n"
     ]
    }
   ],
   "source": [
    "import os\n",
    "import pandas as pd\n",
    "\n",
    "def fix_gt_classes(root_dir):\n",
    "    \"\"\"\n",
    "    遍历数据集目录，将所有GT文件的第8列（class）设为1\n",
    "    \n",
    "    Args:\n",
    "        root_dir (str): 数据集根目录 (e.g. 'MyDataset/')\n",
    "    \"\"\"\n",
    "    for seq_dir in os.listdir(root_dir):\n",
    "        gt_path = os.path.join(root_dir, seq_dir, 'gt', 'gt.txt')\n",
    "        if not os.path.exists(gt_path):\n",
    "            continue\n",
    "        \n",
    "        print(f\"处理序列: {seq_dir}\")\n",
    "        df = pd.read_csv(gt_path, header=None)\n",
    "        \n",
    "        # 确保列数正确\n",
    "        if df.shape[1] != 10:\n",
    "            print(f\"错误：{seq_dir} 的列数不为10\")\n",
    "            continue\n",
    "        \n",
    "        # 将第8列（索引7）设为1\n",
    "        df[6] = -1\n",
    "        \n",
    "        # 保存文件\n",
    "        df.to_csv(gt_path, index=False, header=False)\n",
    "\n",
    "if __name__ == \"__main__\":\n",
    "    fix_gt_classes(\"data/gt/mot_challenge/MOT17-test\")  # 修改为你的数据集根目录\n",
    "    print(\"所有GT文件修复完成！\")"
   ]
  },
  {
   "cell_type": "code",
   "execution_count": null,
   "metadata": {},
   "outputs": [],
   "source": [
    "import os\n",
    "import pandas as pd\n",
    "\n",
    "def fix_gt_classes(root_dir):\n",
    "    \"\"\"\n",
    "    遍历数据集目录，将所有GT文件的第8列（class）设为1\n",
    "    \n",
    "    Args:\n",
    "        root_dir (str): 数据集根目录 (e.g. 'MyDataset/')\n",
    "    \"\"\"\n",
    "    for seq_dir in os.listdir(root_dir):\n",
    "        gt_path = os.path.join(root_dir, seq_dir, 'gt', 'gt.txt')\n",
    "        if not os.path.exists(gt_path):\n",
    "            continue\n",
    "        \n",
    "        print(f\"处理序列: {seq_dir}\")\n",
    "        df = pd.read_csv(gt_path, header=None)\n",
    "        \n",
    "        # 确保列数正确\n",
    "        if df.shape[1] != 10:\n",
    "            print(f\"错误：{seq_dir} 的列数不为10\")\n",
    "            continue\n",
    "        \n",
    "        # 将第8列（索引7）设为1\n",
    "        df[6] = 1\n",
    "        \n",
    "        # 保存文件\n",
    "        df.to_csv(gt_path, index=False, header=False)\n",
    "\n",
    "if __name__ == \"__main__\":\n",
    "    fix_gt_classes(\"data/gt/mot_challenge/MOT17-train\")  # 修改为你的数据集根目录\n",
    "    print(\"所有GT文件修复完成！\")"
   ]
  },
  {
   "cell_type": "markdown",
   "metadata": {},
   "source": [
    "scripts/run_mot_challenge.py --BENCHMARK MOT17 --SPLIT_TO_EVAL train --TRACKERS_TO_EVAL MMOT_Tracker --METRICS HOTA --USE_PARALLEL False --NUM_PARALLEL_CORES 8  "
   ]
  }
 ],
 "metadata": {
  "kernelspec": {
   "display_name": "default",
   "language": "python",
   "name": "python3"
  },
  "language_info": {
   "codemirror_mode": {
    "name": "ipython",
    "version": 3
   },
   "file_extension": ".py",
   "mimetype": "text/x-python",
   "name": "python",
   "nbconvert_exporter": "python",
   "pygments_lexer": "ipython3",
   "version": "3.10.12"
  }
 },
 "nbformat": 4,
 "nbformat_minor": 2
}
